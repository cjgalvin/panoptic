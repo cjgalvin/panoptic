{
 "cells": [
  {
   "cell_type": "markdown",
   "metadata": {},
   "source": [
    "# Mask R-CNN Demo\n",
    "\n",
    "A quick intro to using the pre-trained model to detect and segment objects."
   ]
  },
  {
   "cell_type": "code",
   "execution_count": 1,
   "metadata": {},
   "outputs": [
    {
     "name": "stderr",
     "output_type": "stream",
     "text": [
      "Using TensorFlow backend.\n"
     ]
    }
   ],
   "source": [
    "import os\n",
    "import sys\n",
    "import random\n",
    "import math\n",
    "import numpy as np\n",
    "import skimage.io\n",
    "import matplotlib\n",
    "import matplotlib.pyplot as plt\n",
    "\n",
    "# Root directory of the project\n",
    "ROOT_DIR = os.path.abspath(\"../\")\n",
    "\n",
    "# Import Mask RCNN\n",
    "sys.path.append(ROOT_DIR)  # To find local version of the library\n",
    "from mrcnn import utils\n",
    "import mrcnn.model as modellib\n",
    "from mrcnn import visualize\n",
    "# Import COCO config\n",
    "sys.path.append(os.path.join(ROOT_DIR, \"samples/coco/\"))  # To find local version\n",
    "import coco\n",
    "\n",
    "%matplotlib inline \n",
    "\n",
    "# Directory to save logs and trained model\n",
    "MODEL_DIR = os.path.join(ROOT_DIR, \"logs\")\n",
    "\n",
    "# Local path to trained weights file\n",
    "COCO_MODEL_PATH = os.path.join(ROOT_DIR, \"mask_rcnn_coco.h5\")\n",
    "# Download COCO trained weights from Releases if needed\n",
    "#if not os.path.exists(COCO_MODEL_PATH):\n",
    "#    utils.download_trained_weights(COCO_MODEL_PATH)\n",
    "\n",
    "# Directory of images to run detection on\n",
    "IMAGE_DIR = os.path.join(ROOT_DIR, \"images\")"
   ]
  },
  {
   "cell_type": "markdown",
   "metadata": {},
   "source": [
    "## Configurations\n",
    "\n",
    "We'll be using a model trained on the MS-COCO dataset. The configurations of this model are in the ```CocoConfig``` class in ```coco.py```.\n",
    "\n",
    "For inferencing, modify the configurations a bit to fit the task. To do so, sub-class the ```CocoConfig``` class and override the attributes you need to change."
   ]
  },
  {
   "cell_type": "code",
   "execution_count": 2,
   "metadata": {},
   "outputs": [
    {
     "name": "stdout",
     "output_type": "stream",
     "text": [
      "\n",
      "Configurations:\n",
      "BACKBONE                       resnet101\n",
      "BACKBONE_STRIDES               [4, 8, 16, 32, 64]\n",
      "BATCH_SIZE                     1\n",
      "BBOX_STD_DEV                   [0.1 0.1 0.2 0.2]\n",
      "COMPUTE_BACKBONE_SHAPE         None\n",
      "DETECTION_MAX_INSTANCES        100\n",
      "DETECTION_MIN_CONFIDENCE       0.7\n",
      "DETECTION_NMS_THRESHOLD        0.3\n",
      "FPN_CLASSIF_FC_LAYERS_SIZE     1024\n",
      "GPU_COUNT                      1\n",
      "GRADIENT_CLIP_NORM             5.0\n",
      "IMAGES_PER_GPU                 1\n",
      "IMAGE_CHANNEL_COUNT            3\n",
      "IMAGE_MAX_DIM                  1024\n",
      "IMAGE_META_SIZE                93\n",
      "IMAGE_MIN_DIM                  800\n",
      "IMAGE_MIN_SCALE                0\n",
      "IMAGE_RESIZE_MODE              square\n",
      "IMAGE_SHAPE                    [1024 1024    3]\n",
      "LEARNING_MOMENTUM              0.9\n",
      "LEARNING_RATE                  0.001\n",
      "LOSS_WEIGHTS                   {'rpn_class_loss': 1.0, 'rpn_bbox_loss': 1.0, 'mrcnn_class_loss': 1.0, 'mrcnn_bbox_loss': 1.0, 'mrcnn_mask_loss': 1.0}\n",
      "MASK_POOL_SIZE                 14\n",
      "MASK_SHAPE                     [28, 28]\n",
      "MAX_GT_INSTANCES               100\n",
      "MEAN_PIXEL                     [123.7 116.8 103.9]\n",
      "MINI_MASK_SHAPE                (56, 56)\n",
      "NAME                           coco\n",
      "NUM_CLASSES                    81\n",
      "POOL_SIZE                      7\n",
      "POST_NMS_ROIS_INFERENCE        1000\n",
      "POST_NMS_ROIS_TRAINING         2000\n",
      "PRE_NMS_LIMIT                  6000\n",
      "ROI_POSITIVE_RATIO             0.33\n",
      "RPN_ANCHOR_RATIOS              [0.5, 1, 2]\n",
      "RPN_ANCHOR_SCALES              (32, 64, 128, 256, 512)\n",
      "RPN_ANCHOR_STRIDE              1\n",
      "RPN_BBOX_STD_DEV               [0.1 0.1 0.2 0.2]\n",
      "RPN_NMS_THRESHOLD              0.7\n",
      "RPN_TRAIN_ANCHORS_PER_IMAGE    256\n",
      "STEPS_PER_EPOCH                1000\n",
      "TOP_DOWN_PYRAMID_SIZE          256\n",
      "TRAIN_BN                       False\n",
      "TRAIN_ROIS_PER_IMAGE           200\n",
      "USE_MINI_MASK                  True\n",
      "USE_RPN_ROIS                   True\n",
      "VALIDATION_STEPS               50\n",
      "WEIGHT_DECAY                   0.0001\n",
      "\n",
      "\n"
     ]
    }
   ],
   "source": [
    "class InferenceConfig(coco.CocoConfig):\n",
    "    # Set batch size to 1 since we'll be running inference on\n",
    "    # one image at a time. Batch size = GPU_COUNT * IMAGES_PER_GPU\n",
    "    GPU_COUNT = 1\n",
    "    IMAGES_PER_GPU = 1\n",
    "\n",
    "config = InferenceConfig()\n",
    "config.display()"
   ]
  },
  {
   "cell_type": "markdown",
   "metadata": {},
   "source": [
    "## Create Model and Load Trained Weights"
   ]
  },
  {
   "cell_type": "code",
   "execution_count": 3,
   "metadata": {
    "collapsed": true,
    "scrolled": false
   },
   "outputs": [
    {
     "name": "stdout",
     "output_type": "stream",
     "text": [
      "WARNING:tensorflow:From C:\\Users\\andor.neo\\Anaconda3\\envs\\TFenv\\lib\\site-packages\\tensorflow\\python\\ops\\sparse_ops.py:1165: sparse_to_dense (from tensorflow.python.ops.sparse_ops) is deprecated and will be removed in a future version.\n",
      "Instructions for updating:\n",
      "Create a `tf.sparse.SparseTensor` and use `tf.sparse.to_dense` instead.\n"
     ]
    }
   ],
   "source": [
    "# Create model object in inference mode.\n",
    "model = modellib.MaskRCNN(mode=\"inference\", model_dir=MODEL_DIR, config=config)\n",
    "\n",
    "# Load weights trained on MS-COCO\n",
    "model.load_weights(COCO_MODEL_PATH, by_name=True)"
   ]
  },
  {
   "cell_type": "markdown",
   "metadata": {},
   "source": [
    "## Class Names\n",
    "\n",
    "The model classifies objects and returns class IDs, which are integer value that identify each class. Some datasets assign integer values to their classes and some don't. For example, in the MS-COCO dataset, the 'person' class is 1 and 'teddy bear' is 88. The IDs are often sequential, but not always. The COCO dataset, for example, has classes associated with class IDs 70 and 72, but not 71.\n",
    "\n",
    "To improve consistency, and to support training on data from multiple sources at the same time, our ```Dataset``` class assigns it's own sequential integer IDs to each class. For example, if you load the COCO dataset using our ```Dataset``` class, the 'person' class would get class ID = 1 (just like COCO) and the 'teddy bear' class is 78 (different from COCO). Keep that in mind when mapping class IDs to class names.\n",
    "\n",
    "To get the list of class names, you'd load the dataset and then use the ```class_names``` property like this.\n",
    "```\n",
    "# Load COCO dataset\n",
    "dataset = coco.CocoDataset()\n",
    "dataset.load_coco(COCO_DIR, \"train\")\n",
    "dataset.prepare()\n",
    "\n",
    "# Print class names\n",
    "print(dataset.class_names)\n",
    "```\n",
    "\n",
    "We don't want to require you to download the COCO dataset just to run this demo, so we're including the list of class names below. The index of the class name in the list represent its ID (first class is 0, second is 1, third is 2, ...etc.)"
   ]
  },
  {
   "cell_type": "code",
   "execution_count": 4,
   "metadata": {
    "collapsed": true
   },
   "outputs": [],
   "source": [
    "# COCO Class names\n",
    "# Index of the class in the list is its ID. For example, to get ID of\n",
    "# the teddy bear class, use: class_names.index('teddy bear')\n",
    "class_names = ['background', 'person', 'bicycle', 'car', 'motorcycle', 'airplane',\n",
    "               'bus', 'train', 'truck', 'boat', 'traffic light',\n",
    "               'fire hydrant', 'stop sign', 'parking meter', 'bench', 'bird',\n",
    "               'cat', 'dog', 'horse', 'sheep', 'cow', 'elephant', 'bear',\n",
    "               'zebra', 'giraffe', 'backpack', 'umbrella', 'handbag', 'tie',\n",
    "               'suitcase', 'frisbee', 'skis', 'snowboard', 'sports ball',\n",
    "               'kite', 'baseball bat', 'baseball glove', 'skateboard',\n",
    "               'surfboard', 'tennis racket', 'bottle', 'wine glass', 'cup',\n",
    "               'fork', 'knife', 'spoon', 'bowl', 'banana', 'apple',\n",
    "               'sandwich', 'orange', 'broccoli', 'carrot', 'hot dog', 'pizza',\n",
    "               'donut', 'cake', 'chair', 'couch', 'potted plant', 'bed',\n",
    "               'dining table', 'toilet', 'tv', 'laptop', 'mouse', 'remote',\n",
    "               'keyboard', 'cell phone', 'microwave', 'oven', 'toaster',\n",
    "               'sink', 'refrigerator', 'book', 'clock', 'vase', 'scissors',\n",
    "               'teddy bear', 'hair drier', 'toothbrush']"
   ]
  },
  {
   "cell_type": "markdown",
   "metadata": {},
   "source": [
    "## Run Object Detection"
   ]
  },
  {
   "cell_type": "code",
   "execution_count": 5,
   "metadata": {},
   "outputs": [],
   "source": [
    "from skimage.transform import rescale, resize\n",
    "import matplotlib.pyplot as plt\n",
    "\n",
    "import json"
   ]
  },
  {
   "cell_type": "code",
   "execution_count": 6,
   "metadata": {},
   "outputs": [],
   "source": [
    "images_json_file = r'C:\\Users\\andor.neo\\Desktop\\casey\\ml_ai\\models-master\\research\\deeplab\\datasets\\coco\\images\\image_info_test-dev2017.json'\n",
    "categories_json_file = r'C:\\Users\\andor.neo\\Desktop\\casey\\ml_ai\\panopticapi-master\\panoptic_coco_categories.json'\n",
    "panoptic_json_file = r'C:\\Users\\andor.neo\\Desktop\\casey\\ml_ai\\models-master\\research\\deeplab\\datasets\\coco\\annotations\\panoptic_test2017.json'"
   ]
  },
  {
   "cell_type": "code",
   "execution_count": 7,
   "metadata": {},
   "outputs": [],
   "source": [
    "with open(images_json_file, 'r') as f:\n",
    "    images_d = json.load(f)\n",
    "    \n",
    "with open(categories_json_file, 'r') as f:\n",
    "    categories_list = json.load(f)\n",
    "categories = {el['id']: el for el in categories_list}\n",
    "name2id = {el['name']: el['id'] for el in categories_list}"
   ]
  },
  {
   "cell_type": "code",
   "execution_count": 8,
   "metadata": {},
   "outputs": [
    {
     "data": {
      "text/plain": [
       "20288"
      ]
     },
     "execution_count": 8,
     "metadata": {},
     "output_type": "execute_result"
    }
   ],
   "source": [
    "#Open specific image\n",
    "image_dir = r'C:\\Users\\andor.neo\\Desktop\\casey\\ml_ai\\models-master\\research\\deeplab\\datasets\\coco\\images\\test\\\\'\n",
    "imagelist = []\n",
    "for n in range(len(images_d[\"images\"])):\n",
    "    image_file = image_dir + images_d['images'][n]['file_name']\n",
    "    imagelist.append(image_file)\n",
    "len(imagelist)"
   ]
  },
  {
   "cell_type": "code",
   "execution_count": 9,
   "metadata": {},
   "outputs": [],
   "source": [
    "def create_segments_info(r, png_zeros):\n",
    "    \n",
    "    png_img = png_zeros.copy()\n",
    "    \n",
    "    segments_info_list = []\n",
    "\n",
    "    for n in range(len(r['class_ids'])):\n",
    "        panoptic_ann = {}\n",
    "        \n",
    "        object_name = class_names[r['class_ids'][0]]\n",
    "        category_id = name2id[object_name]\n",
    "        \n",
    "        mask = r[\"masks\"][:, :, n]\n",
    "        \n",
    "        \n",
    "        segment_id = id_generator.get_id(category_id)\n",
    "        panoptic_ann[\"id\"] = int(segment_id)\n",
    "        panoptic_ann[\"category_id\"] = int(category_id)\n",
    "        panoptic_ann[\"iscrowd\"] = 0\n",
    "        panoptic_ann[\"bbox\"] = [int(el) for el in r['rois'][n]]\n",
    "        panoptic_ann[\"area\"] = int(np.sum(mask))\n",
    "        segments_info_list.append(panoptic_ann)\n",
    "        \n",
    "        rgb = id2rgb(segment_id)\n",
    "        \n",
    "        for n in range(3):\n",
    "            \n",
    "            dim = png_img[:, :, n]\n",
    "            dim[mask] = int(rgb[n])\n",
    "\n",
    "    return segments_info_list, png_img"
   ]
  },
  {
   "cell_type": "code",
   "execution_count": 10,
   "metadata": {},
   "outputs": [],
   "source": [
    "class IdGenerator():\n",
    "    def __init__(self, categories):\n",
    "        self.taken_colors = set([0, 0, 0])\n",
    "        self.categories = categories\n",
    "        for category in self.categories.values():\n",
    "            if category['isthing'] == 0:\n",
    "                self.taken_colors.add(tuple(category['color']))\n",
    "\n",
    "    def get_color(self, cat_id):\n",
    "        def random_color(base, max_dist=30):\n",
    "            new_color = base + np.random.randint(low=-max_dist,\n",
    "                                                 high=max_dist+1,\n",
    "                                                 size=3)\n",
    "            return tuple(np.maximum(0, np.minimum(255, new_color)))\n",
    "\n",
    "        category = self.categories[cat_id]\n",
    "        if category['isthing'] == 0:\n",
    "            return category['color']\n",
    "        base_color_array = category['color']\n",
    "        base_color = tuple(base_color_array)\n",
    "        if base_color not in self.taken_colors:\n",
    "            self.taken_colors.add(base_color)\n",
    "            return base_color\n",
    "        else:\n",
    "            while True:\n",
    "                color = random_color(base_color_array)\n",
    "                if color not in self.taken_colors:\n",
    "                     self.taken_colors.add(color)\n",
    "                     return color\n",
    "\n",
    "    def get_id(self, cat_id):\n",
    "        color = self.get_color(cat_id)\n",
    "        return rgb2id(color)\n",
    "\n",
    "    def get_id_and_color(self, cat_id):\n",
    "        color = self.get_color(cat_id)\n",
    "        return rgb2id(color), color\n",
    "    \n",
    "def rgb2id(color):\n",
    "    if isinstance(color, np.ndarray) and len(color.shape) == 3:\n",
    "        if color.dtype == np.uint8:\n",
    "            color = color.astype(np.uint32)\n",
    "        return color[:, :, 0] + 256 * color[:, :, 1] + 256 * 256 * color[:, :, 2]\n",
    "    return color[0] + 256 * color[1] + 256 * 256 * color[2]\n",
    "\n",
    "\n",
    "def id2rgb(id_map):\n",
    "    if isinstance(id_map, np.ndarray):\n",
    "        id_map_copy = id_map.copy()\n",
    "        rgb_shape = tuple(list(id_map.shape) + [3])\n",
    "        rgb_map = np.zeros(rgb_shape, dtype=np.uint8)\n",
    "        for i in range(3):\n",
    "            rgb_map[..., i] = id_map_copy % 256\n",
    "            id_map_copy //= 256\n",
    "        return rgb_map\n",
    "    color = []\n",
    "    for i in range(3):\n",
    "        color.append(id_map % 256)\n",
    "        id_map //= 256\n",
    "    return color"
   ]
  },
  {
   "cell_type": "code",
   "execution_count": 11,
   "metadata": {},
   "outputs": [],
   "source": [
    "def create_exception_r(png_zeros):\n",
    "    r = {}\n",
    "    r['rois'] = [[0,0,0,0]]\n",
    "    r['class_ids'] = [1]\n",
    "    r['scores'] = [0]\n",
    "    r['masks'] = np.array(png_zeros, dtype=bool)\n",
    "    return r"
   ]
  },
  {
   "cell_type": "code",
   "execution_count": 12,
   "metadata": {},
   "outputs": [],
   "source": [
    "import warnings \n",
    "warnings.filterwarnings(action='ignore')"
   ]
  },
  {
   "cell_type": "code",
   "execution_count": 135,
   "metadata": {
    "scrolled": false
   },
   "outputs": [],
   "source": [
    "import pickle\n",
    "\n",
    "id_generator = IdGenerator(categories)\n",
    "\n",
    "panoptic_json = images_d.copy()\n",
    "\n",
    "panoptic_json_anns = []\n",
    "annotation = {}\n",
    "\n",
    "#Save sublists to later compile into master list\n",
    "panoptic_json_dir = r'C:\\Users\\andor.neo\\Desktop\\casey\\ml_ai\\models-master\\research\\deeplab\\datasets\\coco\\annotations\\\\'\n",
    "sublist_file = 'pan_list_last.pkl'\n",
    "\n",
    "current_extent = 3832\n",
    "\n",
    "for n, idx in enumerate(imagelist[current_extent:3833]):\n",
    "    n = n + current_extent\n",
    "    file_name = panoptic_json['images'][n]['id']\n",
    "    if n % 250 == 0:\n",
    "        file_ext = r\".pkl\"\n",
    "        with open(panoptic_json_dir + \"_\" + str(n) + \"_\" + file_ext, \"wb\") as fp:   #Pickling\n",
    "        \tpickle.dump(panoptic_json_anns, fp)\n",
    "    \n",
    "    if n % 1000 == 0:\n",
    "        print(\"Processing image\", n)\n",
    "        print(\"File located at\", idx)\n",
    "    \n",
    "    image = skimage.io.imread(idx)\n",
    "    png_zeros = np.zeros((image.shape[0], image.shape[1], 3), dtype=int)\n",
    "    \n",
    "    # Run detection\n",
    "    try:\n",
    "        results = model.detect([image], verbose=0)\n",
    "        \n",
    "    except Exception as error:\n",
    "        print('Found error at n =', n)\n",
    "        print(error)\n",
    "        r = create_exception_r(png_zeros)\n",
    "        \n",
    "        segments_info, png_img = create_segments_info(r, png_zeros)\n",
    "        \n",
    "        annotation['segments_info'] = segments_info\n",
    "        panoptic_json_anns.append(annotation.copy())\n",
    "\n",
    "        \n",
    "        skimage.io.imsave(r'C:\\Users\\andor.neo\\Desktop\\casey\\ml_ai\\models-master\\research\\deeplab\\datasets\\coco\\annotations\\panoptic_annotations_test2017\\\\' + str(file_name).zfill(12) + '.png', png_zeros, vmin=0, vmax=255)\n",
    "        skimage.io.imsave(r'C:\\Users\\andor.neo\\Desktop\\casey\\ml_ai\\models-master\\research\\deeplab\\datasets\\coco\\annotations\\panoptic_annotations_test2017_id\\\\' + str(file_name) + '.png', png_zeros, vmin=0, vmax=255)\n",
    "\n",
    "        print(\"Created void entry due to B and W image number\", n)\n",
    "        \n",
    "        continue\n",
    "\n",
    "    #except Exception as error:\n",
    "    #    print(\"A new exception occurred. voiding image\")\n",
    "    #    print(str(error))\n",
    "    #    bw_r = create_exception_r(n)\n",
    "    #    results = [bw_r]\n",
    "    \n",
    "    \n",
    "    r = results[0]\n",
    "\n",
    "    segments_info, png_img = create_segments_info(r, png_zeros)\n",
    "\n",
    "    annotation['segments_info'] = segments_info\n",
    "    panoptic_json_anns.append(annotation.copy())\n",
    "\n",
    "    \n",
    "    skimage.io.imsave(r'C:\\Users\\andor.neo\\Desktop\\casey\\ml_ai\\models-master\\research\\deeplab\\datasets\\coco\\annotations\\panoptic_annotations_test2017\\\\' + str(file_name).zfill(12) + '.png', png_img, vmin=0, vmax=255)\n",
    "    skimage.io.imsave(r'C:\\Users\\andor.neo\\Desktop\\casey\\ml_ai\\models-master\\research\\deeplab\\datasets\\coco\\annotations\\panoptic_annotations_test2017_id\\\\' + str(file_name) + '.png', png_img, vmin=0, vmax=255)\n",
    "\n",
    "    \n",
    "with open(panoptic_json_dir + \"3832.pkl\", \"wb\") as fp:\n",
    "    pickle.dump(panoptic_json_anns, fp)\n",
    "\n",
    "    \n",
    "#panoptic_json[\"annotations\"] = panoptic_json_anns\n",
    "\n",
    "#with open(panoptic_json_file, 'w') as f:\n",
    "#    json.dump(panoptic_json, f)"
   ]
  },
  {
   "cell_type": "code",
   "execution_count": 16,
   "metadata": {},
   "outputs": [
    {
     "data": {
      "text/plain": [
       "20288"
      ]
     },
     "execution_count": 16,
     "metadata": {},
     "output_type": "execute_result"
    }
   ],
   "source": [
    "import pickle\n",
    "pickle_list = [\"0_3832.pkl\", \"3833_8000.pkl\", \"8000_12000.pkl\", \"12000_18250.pkl\", \"18250_20288.pkl\"]\n",
    "\n",
    "panoptic_anns_json_combined = []\n",
    "\n",
    "for picklePiece in pickle_list:\n",
    "    with open(r'C:\\Users\\andor.neo\\Desktop\\casey\\ml_ai\\models-master\\research\\deeplab\\datasets\\coco\\annotations\\annotations_pickles\\\\' + picklePiece, \"rb\") as fp:\n",
    "        sublist = pickle.load(fp)\n",
    "        panoptic_anns_json_combined.extend(sublist)\n",
    "\n",
    "len(panoptic_anns_json_combined)"
   ]
  },
  {
   "cell_type": "code",
   "execution_count": 38,
   "metadata": {},
   "outputs": [],
   "source": [
    "for idx in range(len(panoptic_json[\"images\"])):\n",
    "    panoptic_json[\"annotations\"][idx][\"image_id\"] = panoptic_json[\"images\"][idx][\"id\"]\n",
    "    panoptic_json[\"annotations\"][idx][\"file_name\"] = panoptic_json[\"images\"][idx][\"file_name\"]"
   ]
  },
  {
   "cell_type": "code",
   "execution_count": 42,
   "metadata": {},
   "outputs": [],
   "source": [
    "for idx in range(len(panoptic_json[\"images\"])):\n",
    "    panoptic_json[\"annotations\"][idx][\"file_name\"] = str(panoptic_json[\"annotations\"][idx][\"image_id\"]).zfill(12) + \".png\""
   ]
  },
  {
   "cell_type": "code",
   "execution_count": 134,
   "metadata": {},
   "outputs": [],
   "source": [
    "with open(panoptic_json_dir + \"panoptic_test-dev2017_mrcnn.json\", 'w') as f:\n",
    "    json.dump(panoptic_json, f)"
   ]
  }
 ],
 "metadata": {
  "kernelspec": {
   "display_name": "Python 3",
   "language": "python",
   "name": "python3"
  },
  "language_info": {
   "codemirror_mode": {
    "name": "ipython",
    "version": 3
   },
   "file_extension": ".py",
   "mimetype": "text/x-python",
   "name": "python",
   "nbconvert_exporter": "python",
   "pygments_lexer": "ipython3",
   "version": "3.6.8"
  }
 },
 "nbformat": 4,
 "nbformat_minor": 2
}
